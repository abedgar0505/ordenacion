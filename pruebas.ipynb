{
 "cells": [
  {
   "cell_type": "code",
   "execution_count": 1,
   "metadata": {},
   "outputs": [
    {
     "name": "stdout",
     "output_type": "stream",
     "text": [
      "pygame 2.6.1 (SDL 2.28.4, Python 3.11.4)\n",
      "Hello from the pygame community. https://www.pygame.org/contribute.html\n"
     ]
    }
   ],
   "source": [
    "import pygame"
   ]
  },
  {
   "cell_type": "code",
   "execution_count": 3,
   "metadata": {},
   "outputs": [],
   "source": [
    "import pygame_widgets\n",
    "\n",
    "from pygame_widgets.button import Button \n",
    "pygame.init() \n",
    "win = pygame.display.set_mode((600, 600)) \n",
    "button = Button( \n",
    "    win, 100, 100, 300, 150, \n",
    "    text='Hola', fontSIze=50, margin=20, inactiveColour=(200, 50, 0), \n",
    "    hoverColour=(150, 0, 0), pressedColour=(0, 200, 20), radius=20, \n",
    "    onClick=lambda: print('CLick') \n",
    ") \n",
    "\n",
    "run = True \n",
    "while run: \n",
    "    events = pygame.event.get() \n",
    "    for event in events: \n",
    "        if event.type == pygame.QUIT: \n",
    "            pygame.quit() \n",
    "            run = False \n",
    "            break \n",
    "    if run == False: \n",
    "        break \n",
    "    win.fill((255, 255, 255)) \n",
    "\n",
    "    pygame_widgets.update(events) \n",
    "    pygame.display.update() \n"
   ]
  }
 ],
 "metadata": {
  "kernelspec": {
   "display_name": "Python 3.11.4 ('base')",
   "language": "python",
   "name": "python3"
  },
  "language_info": {
   "codemirror_mode": {
    "name": "ipython",
    "version": 3
   },
   "file_extension": ".py",
   "mimetype": "text/x-python",
   "name": "python",
   "nbconvert_exporter": "python",
   "pygments_lexer": "ipython3",
   "version": "3.11.4"
  },
  "orig_nbformat": 4,
  "vscode": {
   "interpreter": {
    "hash": "43d4a72ae3f8ca4bdc197405bffe4612bd464ff94f6274e9f0388557aa0b31ff"
   }
  }
 },
 "nbformat": 4,
 "nbformat_minor": 2
}
